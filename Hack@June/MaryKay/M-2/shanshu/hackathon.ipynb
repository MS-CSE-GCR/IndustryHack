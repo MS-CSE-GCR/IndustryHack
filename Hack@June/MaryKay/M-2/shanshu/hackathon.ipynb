{
 "cells": [
  {
   "cell_type": "code",
   "execution_count": 3,
   "metadata": {},
   "outputs": [],
   "source": [
    "import pandas as pd\n",
    "import requests\n",
    "import numpy as np"
   ]
  },
  {
   "cell_type": "code",
   "execution_count": 2,
   "metadata": {},
   "outputs": [],
   "source": [
    "path = '/Users/haikundu/Desktop/shanshu/hackathon/data/personal profile.xlsx'\n",
    "person_profile = pd.read_excel(path)"
   ]
  },
  {
   "cell_type": "code",
   "execution_count": 3,
   "metadata": {},
   "outputs": [],
   "source": [
    "def get_address(address):\n",
    "    url=\"http://restapi.amap.com/v3/geocode/geo?key=18d814cd5739a368b7afddd9c3c188dc&address=%s\"%(address)\n",
    "    data=requests.get(url)\n",
    "    contest=data.json()\n",
    "    contest=contest['geocodes'][0]['location']\n",
    "    return contest"
   ]
  },
  {
   "cell_type": "code",
   "execution_count": 4,
   "metadata": {},
   "outputs": [],
   "source": [
    "def add_str(x,y):\n",
    "    return str(y)+ '市' +str(x)\n",
    "person_profile['address'] = person_profile.apply(lambda x: add_str(x['PrimaryCounty'],x['PrimaryCity']), axis = 1)"
   ]
  },
  {
   "cell_type": "code",
   "execution_count": 5,
   "metadata": {},
   "outputs": [],
   "source": [
    "person_profile['log_lat'] = person_profile.apply(lambda x: get_address(x['address']),axis = 1)"
   ]
  },
  {
   "cell_type": "code",
   "execution_count": null,
   "metadata": {},
   "outputs": [],
   "source": [
    "'''\n",
    "for i in range(person_profile.shape[0]):\n",
    "    person_profile.loc[i,'log_lat'] = get_address(person_profile.loc[i,'address'])\n",
    "    print(i)\n",
    "'''"
   ]
  },
  {
   "cell_type": "code",
   "execution_count": 6,
   "metadata": {},
   "outputs": [],
   "source": [
    "person_profile.loc[:,'longitude'] = person_profile.apply(lambda x: x['log_lat'].split(',')[0],axis = 1)\n",
    "person_profile.loc[:,'latitude'] = person_profile.apply(lambda x: x['log_lat'].split(',')[1],axis = 1)"
   ]
  },
  {
   "cell_type": "code",
   "execution_count": 39,
   "metadata": {},
   "outputs": [
    {
     "data": {
      "text/plain": [
       "(43040, 11)"
      ]
     },
     "execution_count": 39,
     "metadata": {},
     "output_type": "execute_result"
    }
   ],
   "source": [
    "person_profile.shape"
   ]
  },
  {
   "cell_type": "code",
   "execution_count": 7,
   "metadata": {},
   "outputs": [],
   "source": [
    "person_profile.to_csv('含地理信息.csv')"
   ]
  },
  {
   "cell_type": "code",
   "execution_count": 4,
   "metadata": {},
   "outputs": [],
   "source": [
    "path_prod = '/Users/haikundu/Desktop/shanshu/hackathon/data/personal prod.csv'\n",
    "personal_prod = pd.read_csv(path_prod)"
   ]
  },
  {
   "cell_type": "code",
   "execution_count": 116,
   "metadata": {},
   "outputs": [],
   "source": [
    "person_profile = pd.read_csv('/Users/haikundu/Desktop/shanshu/hackathon/含地理信息.csv')"
   ]
  },
  {
   "cell_type": "code",
   "execution_count": 117,
   "metadata": {},
   "outputs": [
    {
     "data": {
      "text/plain": [
       "Index(['ProductionMonthKey', 'BK_ContactID', 'ProductionAmount',\n",
       "       'monthssincebecomingbc', 'OrderingConsultantIndicator',\n",
       "       'ProductionOrderCount', 'CareerLevelCode', 'ActivityStatusCode'],\n",
       "      dtype='object')"
      ]
     },
     "execution_count": 117,
     "metadata": {},
     "output_type": "execute_result"
    }
   ],
   "source": [
    "personal_prod.columns"
   ]
  },
  {
   "cell_type": "code",
   "execution_count": 118,
   "metadata": {},
   "outputs": [],
   "source": [
    "tidydata = pd.merge(person_profile,\n",
    "                    personal_prod[personal_prod['ProductionMonthKey'] == 201803][['BK_ContactID',\n",
    "                                                                                  'ActivityStatusCode',\n",
    "                                                                                  'ProductionAmount',\n",
    "                                                                                  'monthssincebecomingbc',\n",
    "                                                                                  'OrderingConsultantIndicator',\n",
    "                                                                                  'ProductionOrderCount',\n",
    "                                                                                  'CareerLevelCode']],\n",
    "                    left_on = 'BK_ContactID',right_on = 'BK_ContactID', how = 'inner')\n",
    "for i in [201704,201705,201706,201707,201708,201709,201710,201711,201712,201801,201802]:\n",
    "    tidydata = pd.merge(tidydata,\n",
    "                        personal_prod[personal_prod['ProductionMonthKey'] == i][['BK_ContactID',\n",
    "                                                                                 'ActivityStatusCode',\n",
    "                                                                                 'ProductionAmount',\n",
    "                                                                                 'monthssincebecomingbc',\n",
    "                                                                                 'OrderingConsultantIndicator',\n",
    "                                                                                 'ProductionOrderCount',\n",
    "                                                                                 'CareerLevelCode']],\n",
    "                       left_on = 'BK_ContactID',right_on = 'BK_ContactID', how = 'left')"
   ]
  },
  {
   "cell_type": "code",
   "execution_count": 26,
   "metadata": {},
   "outputs": [],
   "source": [
    "personal_prod_12 = personal_prod[personal_prod['ProductionMonthKey'] == 201803]"
   ]
  },
  {
   "cell_type": "code",
   "execution_count": 12,
   "metadata": {},
   "outputs": [],
   "source": [
    "merged = pd.merge(person_profile,personal_prod_12 , left_on = 'BK_ContactID',right_on = 'BK_ContactID', how = 'inner')"
   ]
  },
  {
   "cell_type": "code",
   "execution_count": 74,
   "metadata": {},
   "outputs": [],
   "source": [
    "path_team = '/Users/haikundu/Desktop/shanshu/hackathon/data/team prod.csv'\n",
    "team_prod = pd.read_csv(path_team)"
   ]
  },
  {
   "cell_type": "code",
   "execution_count": null,
   "metadata": {},
   "outputs": [],
   "source": []
  },
  {
   "cell_type": "code",
   "execution_count": 15,
   "metadata": {},
   "outputs": [],
   "source": [
    "team_prod_12 = team_prod[team_prod['ProductionMonthKey'] == 201803]"
   ]
  },
  {
   "cell_type": "code",
   "execution_count": 16,
   "metadata": {},
   "outputs": [],
   "source": [
    "merged_1 = pd.merge(merged,team_prod_12 , left_on = 'BK_ContactID',right_on = 'contactid', how = 'inner')"
   ]
  },
  {
   "cell_type": "code",
   "execution_count": 76,
   "metadata": {},
   "outputs": [],
   "source": [
    "path_unit = '/Users/haikundu/Desktop/shanshu/hackathon/data/unit prod.csv'\n",
    "unit_prod = pd.read_csv(path_unit)"
   ]
  },
  {
   "cell_type": "code",
   "execution_count": 77,
   "metadata": {},
   "outputs": [
    {
     "data": {
      "text/plain": [
       "Index(['ProductionMonthKey', 'contactid', 'ProductionAmount',\n",
       "       'NewRecruitCount', 'OrderingConsultantCount', 'NBCCount', 'N1BCCount',\n",
       "       'N2BCCount', 'N3BCCount', 'ABCCount', 'A1BCCount', 'A2BCCount',\n",
       "       'A3BCCount', 'PBCCount', 'P1BCCount', 'P2BCCount', 'P3BCCount',\n",
       "       'TBCCount', 'T1BCCount', 'T2BCCount', 'T3BCCount', 'T4BCCount',\n",
       "       'T5BCCount', 'T6BCCount', 'DIQCount', 'FDirCount', 'RJCount',\n",
       "       'StarCount', 'SBCCount', 'BC15Count', 'BC10Count'],\n",
       "      dtype='object')"
      ]
     },
     "execution_count": 77,
     "metadata": {},
     "output_type": "execute_result"
    }
   ],
   "source": [
    "unit_prod.columns"
   ]
  },
  {
   "cell_type": "code",
   "execution_count": 119,
   "metadata": {},
   "outputs": [],
   "source": [
    "for i in [201704,201705,201706,201707,201708,201709,201710,201711,201712,201801,201802]:\n",
    "    tidydata = pd.merge(tidydata,\n",
    "                        unit_prod[unit_prod['ProductionMonthKey'] == i][['contactid',\n",
    "                                                                          'ProductionAmount',\n",
    "                                                                          'NewRecruitCount',\n",
    "                                                                          'OrderingConsultantCount',\n",
    "                                                                          'NBCCount',\n",
    "                                                                          'ABCCount',\n",
    "                                                                          'PBCCount',\n",
    "                                                                          'TBCCount',\n",
    "                                                                          'DIQCount',\n",
    "                                                                          'FDirCount',\n",
    "                                                                          'RJCount',\n",
    "                                                                          'StarCount',\n",
    "                                                                          'SBCCount',\n",
    "                                                                          'BC10Count',\n",
    "                                                                          'BC15Count']],\n",
    "                       left_on = 'BK_ContactID',right_on = 'contactid', how = 'left')\n",
    "tidydata = pd.merge(tidydata,\n",
    "                        unit_prod[unit_prod['ProductionMonthKey'] == 201803][['contactid',\n",
    "                                                                          'ProductionAmount',\n",
    "                                                                          'NewRecruitCount',\n",
    "                                                                          'OrderingConsultantCount',\n",
    "                                                                          'NBCCount',\n",
    "                                                                          'ABCCount',\n",
    "                                                                          'PBCCount',\n",
    "                                                                          'TBCCount',\n",
    "                                                                          'DIQCount',\n",
    "                                                                          'FDirCount',\n",
    "                                                                          'RJCount',\n",
    "                                                                          'StarCount',\n",
    "                                                                          'SBCCount',\n",
    "                                                                          'BC10Count',\n",
    "                                                                          'BC15Count']],\n",
    "                       left_on = 'BK_ContactID',right_on = 'contactid', how = 'inner')"
   ]
  },
  {
   "cell_type": "code",
   "execution_count": 123,
   "metadata": {},
   "outputs": [
    {
     "data": {
      "text/plain": [
       "(26403, 264)"
      ]
     },
     "execution_count": 123,
     "metadata": {},
     "output_type": "execute_result"
    }
   ],
   "source": [
    "tidydata.shape"
   ]
  },
  {
   "cell_type": "code",
   "execution_count": 120,
   "metadata": {},
   "outputs": [],
   "source": [
    "columns = ['index','BK_ContactID','StartDate','PrimaryProvince',\n",
    "                    'PrimaryCity','PrimaryCounty','PrimaryStreet','Birthday-year',\n",
    "                    'address','log_lat','longitude','latitude',\n",
    "                    'ActivityStatusCode_pprod1','ProductionAmount_pprod1','monthssincebecomingbc_pprod1','OrderingConsultantIndicator_pprod1','ProductionOrderCount_pprod1','CareerLevelCode_pprod1',\n",
    "                    'ActivityStatusCode_pprod12','ProductionAmount_pprod12','monthssincebecomingbc_pprod12','OrderingConsultantIndicator_pprod12','ProductionOrderCount_pprod12','CareerLevelCode_pprod12',\n",
    "                    'ActivityStatusCode_pprod11','ProductionAmount_pprod11','monthssincebecomingbc_pprod11','OrderingConsultantIndicator_pprod11','ProductionOrderCount_pprod11','CareerLevelCode_pprod11',\n",
    "                    'ActivityStatusCode_pprod10','ProductionAmount_pprod10','monthssincebecomingbc_pprod10','OrderingConsultantIndicator_pprod10','ProductionOrderCount_pprod10','CareerLevelCode_pprod10',\n",
    "                    'ActivityStatusCode_pprod9','ProductionAmount_pprod9','monthssincebecomingbc_pprod9','OrderingConsultantIndicator_pprod9','ProductionOrderCount_pprod9','CareerLevelCode_pprod9',\n",
    "                    'ActivityStatusCode_pprod8','ProductionAmount_pprod8','monthssincebecomingbc_pprod8','OrderingConsultantIndicator_pprod8','ProductionOrderCount_pprod8','CareerLevelCode_pprod8',\n",
    "                    'ActivityStatusCode_pprod7','ProductionAmount_pprod7','monthssincebecomingbc_pprod7','OrderingConsultantIndicator_pprod7','ProductionOrderCount_pprod7','CareerLevelCode_pprod7',\n",
    "                    'ActivityStatusCode_pprod6','ProductionAmount_pprod6','monthssincebecomingbc_pprod6','OrderingConsultantIndicator_pprod6','ProductionOrderCount_pprod6','CareerLevelCode_pprod6',\n",
    "                    'ActivityStatusCode_pprod5','ProductionAmount_pprod5','monthssincebecomingbc_pprod5','OrderingConsultantIndicator_pprod5','ProductionOrderCount_pprod5','CareerLevelCode_pprod5',\n",
    "                    'ActivityStatusCode_pprod4','ProductionAmount_pprod4','monthssincebecomingbc_pprod4','OrderingConsultantIndicator_pprod4','ProductionOrderCount_pprod4','CareerLevelCode_pprod4',\n",
    "                    'ActivityStatusCode_pprod3','ProductionAmount_pprod3','monthssincebecomingbc_pprod3','OrderingConsultantIndicator_pprod3','ProductionOrderCount_pprod3','CareerLevelCode_pprod3',\n",
    "                    'ActivityStatusCode_pprod2','ProductionAmount_pprod2','monthssincebecomingbc_pprod2','OrderingConsultantIndicator_pprod2','ProductionOrderCount_pprod2','CareerLevelCode_pprod2']\n",
    "for i in range(12):\n",
    "    for name in ['contactid','ProductionAmount','NewRecruitCount','OrderingConsultantCount',\n",
    "                    'NBCCount','ABCCount','PBCCount','TBCCount',\n",
    "                    'DIQCount','FDirCount','RJCount','StarCount','SBCCount','BC10Count','BC15Count']:\n",
    "        columns.append(name+str(12-i))\n",
    "tidydata.columns = columns"
   ]
  },
  {
   "cell_type": "code",
   "execution_count": 121,
   "metadata": {},
   "outputs": [],
   "source": [
    "tidydata['longitude'] = tidydata['longitude'].astype(np.float64)\n",
    "tidydata['latitude'] = tidydata['latitude'].astype(np.float64)"
   ]
  },
  {
   "cell_type": "code",
   "execution_count": 122,
   "metadata": {},
   "outputs": [],
   "source": [
    "tidydata.to_csv('tidydata.csv')"
   ]
  },
  {
   "cell_type": "code",
   "execution_count": 42,
   "metadata": {},
   "outputs": [
    {
     "data": {
      "text/plain": [
       "Index(['ProductionMonthKey', 'contactid', 'ProductionAmount',\n",
       "       'NewRecruitCount', 'OrderingConsultantCount', 'NBCCount', 'N1BCCount',\n",
       "       'N2BCCount', 'N3BCCount', 'ABCCount', 'A1BCCount', 'A2BCCount',\n",
       "       'A3BCCount', 'PBCCount', 'P1BCCount', 'P2BCCount', 'P3BCCount',\n",
       "       'TBCCount', 'T1BCCount', 'T2BCCount', 'T3BCCount', 'T4BCCount',\n",
       "       'T5BCCount', 'T6BCCount', 'DIQCount', 'FDirCount', 'RJCount',\n",
       "       'StarCount', 'SBCCount', 'BC15Count', 'BC10Count'],\n",
       "      dtype='object')"
      ]
     },
     "execution_count": 42,
     "metadata": {},
     "output_type": "execute_result"
    }
   ],
   "source": [
    "unit_prod_12 = unit_prod[unit_prod['ProductionMonthKey'] == 201711]\n",
    "unit_prod_12.columns\n"
   ]
  },
  {
   "cell_type": "code",
   "execution_count": 47,
   "metadata": {},
   "outputs": [
    {
     "data": {
      "text/plain": [
       "(43040, 30)"
      ]
     },
     "execution_count": 47,
     "metadata": {},
     "output_type": "execute_result"
    }
   ],
   "source": [
    "unit_prod.groupby('contactid').sum().shape"
   ]
  },
  {
   "cell_type": "code",
   "execution_count": null,
   "metadata": {},
   "outputs": [],
   "source": [
    "merged_2 = pd.merge(merged_1,unit_prod_12 , left_on = 'BK_ContactID',right_on = 'contactid', how = 'inner')"
   ]
  },
  {
   "cell_type": "code",
   "execution_count": null,
   "metadata": {},
   "outputs": [],
   "source": [
    "merged_2.shape"
   ]
  },
  {
   "cell_type": "code",
   "execution_count": null,
   "metadata": {},
   "outputs": [],
   "source": [
    "#tidy_data = merged_2.drop(['PrimaryProvince','PrimaryCity','PrimaryCounty','PrimaryStreet','address','log_lat'],axis= 1)\n",
    "tidy_data = merged_2"
   ]
  },
  {
   "cell_type": "code",
   "execution_count": null,
   "metadata": {},
   "outputs": [],
   "source": [
    "tidy_data['longitude'] = tidy_data['longitude'].astype(np.float64)\n",
    "tidy_data['latitude'] = tidy_data['latitude'].astype(np.float64)"
   ]
  },
  {
   "cell_type": "code",
   "execution_count": null,
   "metadata": {},
   "outputs": [],
   "source": [
    "tidy_data.to_csv('alldata.csv')"
   ]
  },
  {
   "cell_type": "code",
   "execution_count": 81,
   "metadata": {},
   "outputs": [
    {
     "data": {
      "text/plain": [
       "Index(['BK_ContactID', 'StartDate', 'Birthday-year', 'longitude', 'latitude',\n",
       "       'ProductionMonthKey_x', 'ProductionAmount_x', 'monthssincebecomingbc',\n",
       "       'OrderingConsultantIndicator', 'ProductionOrderCount',\n",
       "       'CareerLevelCode', 'ActivityStatusCode', 'ProductionMonthKey_y',\n",
       "       'contactid_x', 'NewRecruitCount_x', 'ProductionAmount_y',\n",
       "       'ActiveConsultantCount', 'OrderingConsultantCount_x',\n",
       "       'ProductionMonthKey', 'contactid_y', 'ProductionAmount',\n",
       "       'NewRecruitCount_y', 'OrderingConsultantCount_y', 'NBCCount',\n",
       "       'N1BCCount', 'N2BCCount', 'N3BCCount', 'ABCCount', 'A1BCCount',\n",
       "       'A2BCCount', 'A3BCCount', 'PBCCount', 'P1BCCount', 'P2BCCount',\n",
       "       'P3BCCount', 'TBCCount', 'T1BCCount', 'T2BCCount', 'T3BCCount',\n",
       "       'T4BCCount', 'T5BCCount', 'T6BCCount', 'DIQCount', 'FDirCount',\n",
       "       'RJCount', 'StarCount', 'SBCCount', 'BC15Count', 'BC10Count'],\n",
       "      dtype='object')"
      ]
     },
     "execution_count": 81,
     "metadata": {},
     "output_type": "execute_result"
    }
   ],
   "source": [
    "tidy_data.columns"
   ]
  },
  {
   "cell_type": "code",
   "execution_count": 133,
   "metadata": {},
   "outputs": [],
   "source": [
    "tidy_data.loc[:,'offspring'] = tidy_data.loc[:,'NBCCount'] + tidy_data.loc[:,'ABCCount'] + tidy_data.loc[:,'PBCCount'] + tidy_data.loc[:,'TBCCount']"
   ]
  },
  {
   "cell_type": "code",
   "execution_count": 139,
   "metadata": {},
   "outputs": [
    {
     "data": {
      "text/plain": [
       "<matplotlib.axes._subplots.AxesSubplot at 0x111fefba8>"
      ]
     },
     "execution_count": 139,
     "metadata": {},
     "output_type": "execute_result"
    },
    {
     "data": {
      "image/png": "[encoded data removed]",
      "text/plain": [
       "<matplotlib.figure.Figure at 0x1131019b0>"
      ]
     },
     "metadata": {},
     "output_type": "display_data"
    }
   ],
   "source": [
    "tidy_data.apply(lambda x: x['ProductionAmount']/x['offspring'],axis = 1).hist(bins = 50)"
   ]
  },
  {
   "cell_type": "code",
   "execution_count": 257,
   "metadata": {},
   "outputs": [
    {
     "data": {
      "text/plain": [
       "['index',\n",
       " 'BK_ContactID',\n",
       " 'StartDate',\n",
       " 'PrimaryProvince',\n",
       " 'PrimaryCity',\n",
       " 'PrimaryCounty',\n",
       " 'PrimaryStreet',\n",
       " 'Birthday-year',\n",
       " 'address',\n",
       " 'log_lat',\n",
       " 'longitude',\n",
       " 'latitude',\n",
       " 'ActivityStatusCode_pprod1',\n",
       " 'ProductionAmount_pprod1',\n",
       " 'monthssincebecomingbc_pprod1',\n",
       " 'OrderingConsultantIndicator_pprod1',\n",
       " 'ProductionOrderCount_pprod1',\n",
       " 'CareerLevelCode_pprod1',\n",
       " 'ActivityStatusCode_pprod12',\n",
       " 'ProductionAmount_pprod12',\n",
       " 'monthssincebecomingbc_pprod12',\n",
       " 'OrderingConsultantIndicator_pprod12',\n",
       " 'ProductionOrderCount_pprod12',\n",
       " 'CareerLevelCode_pprod12',\n",
       " 'ActivityStatusCode_pprod11',\n",
       " 'ProductionAmount_pprod11',\n",
       " 'monthssincebecomingbc_pprod11',\n",
       " 'OrderingConsultantIndicator_pprod11',\n",
       " 'ProductionOrderCount_pprod11',\n",
       " 'CareerLevelCode_pprod11',\n",
       " 'ActivityStatusCode_pprod10',\n",
       " 'ProductionAmount_pprod10',\n",
       " 'monthssincebecomingbc_pprod10',\n",
       " 'OrderingConsultantIndicator_pprod10',\n",
       " 'ProductionOrderCount_pprod10',\n",
       " 'CareerLevelCode_pprod10',\n",
       " 'ActivityStatusCode_pprod9',\n",
       " 'ProductionAmount_pprod9',\n",
       " 'monthssincebecomingbc_pprod9',\n",
       " 'OrderingConsultantIndicator_pprod9',\n",
       " 'ProductionOrderCount_pprod9',\n",
       " 'CareerLevelCode_pprod9',\n",
       " 'ActivityStatusCode_pprod8',\n",
       " 'ProductionAmount_pprod8',\n",
       " 'monthssincebecomingbc_pprod8',\n",
       " 'OrderingConsultantIndicator_pprod8',\n",
       " 'ProductionOrderCount_pprod8',\n",
       " 'CareerLevelCode_pprod8',\n",
       " 'ActivityStatusCode_pprod7',\n",
       " 'ProductionAmount_pprod7',\n",
       " 'monthssincebecomingbc_pprod7',\n",
       " 'OrderingConsultantIndicator_pprod7',\n",
       " 'ProductionOrderCount_pprod7',\n",
       " 'CareerLevelCode_pprod7',\n",
       " 'ActivityStatusCode_pprod6',\n",
       " 'ProductionAmount_pprod6',\n",
       " 'monthssincebecomingbc_pprod6',\n",
       " 'OrderingConsultantIndicator_pprod6',\n",
       " 'ProductionOrderCount_pprod6',\n",
       " 'CareerLevelCode_pprod6',\n",
       " 'ActivityStatusCode_pprod5',\n",
       " 'ProductionAmount_pprod5',\n",
       " 'monthssincebecomingbc_pprod5',\n",
       " 'OrderingConsultantIndicator_pprod5',\n",
       " 'ProductionOrderCount_pprod5',\n",
       " 'CareerLevelCode_pprod5',\n",
       " 'ActivityStatusCode_pprod4',\n",
       " 'ProductionAmount_pprod4',\n",
       " 'monthssincebecomingbc_pprod4',\n",
       " 'OrderingConsultantIndicator_pprod4',\n",
       " 'ProductionOrderCount_pprod4',\n",
       " 'CareerLevelCode_pprod4',\n",
       " 'ActivityStatusCode_pprod3',\n",
       " 'ProductionAmount_pprod3',\n",
       " 'monthssincebecomingbc_pprod3',\n",
       " 'OrderingConsultantIndicator_pprod3',\n",
       " 'ProductionOrderCount_pprod3',\n",
       " 'CareerLevelCode_pprod3',\n",
       " 'ActivityStatusCode_pprod2',\n",
       " 'ProductionAmount_pprod2',\n",
       " 'monthssincebecomingbc_pprod2',\n",
       " 'OrderingConsultantIndicator_pprod2',\n",
       " 'ProductionOrderCount_pprod2',\n",
       " 'CareerLevelCode_pprod2',\n",
       " 'contactid12',\n",
       " 'ProductionAmount12',\n",
       " 'NewRecruitCount12',\n",
       " 'OrderingConsultantCount12',\n",
       " 'NBCCount12',\n",
       " 'ABCCount12',\n",
       " 'PBCCount12',\n",
       " 'TBCCount12',\n",
       " 'DIQCount12',\n",
       " 'FDirCount12',\n",
       " 'RJCount12',\n",
       " 'StarCount12',\n",
       " 'SBCCount12',\n",
       " 'BC10Count12',\n",
       " 'BC15Count12',\n",
       " 'contactid11',\n",
       " 'ProductionAmount11',\n",
       " 'NewRecruitCount11',\n",
       " 'OrderingConsultantCount11',\n",
       " 'NBCCount11',\n",
       " 'ABCCount11',\n",
       " 'PBCCount11',\n",
       " 'TBCCount11',\n",
       " 'DIQCount11',\n",
       " 'FDirCount11',\n",
       " 'RJCount11',\n",
       " 'StarCount11',\n",
       " 'SBCCount11',\n",
       " 'BC10Count11',\n",
       " 'BC15Count11',\n",
       " 'contactid10',\n",
       " 'ProductionAmount10',\n",
       " 'NewRecruitCount10',\n",
       " 'OrderingConsultantCount10',\n",
       " 'NBCCount10',\n",
       " 'ABCCount10',\n",
       " 'PBCCount10',\n",
       " 'TBCCount10',\n",
       " 'DIQCount10',\n",
       " 'FDirCount10',\n",
       " 'RJCount10',\n",
       " 'StarCount10',\n",
       " 'SBCCount10',\n",
       " 'BC10Count10',\n",
       " 'BC15Count10',\n",
       " 'contactid9',\n",
       " 'ProductionAmount9',\n",
       " 'NewRecruitCount9',\n",
       " 'OrderingConsultantCount9',\n",
       " 'NBCCount9',\n",
       " 'ABCCount9',\n",
       " 'PBCCount9',\n",
       " 'TBCCount9',\n",
       " 'DIQCount9',\n",
       " 'FDirCount9',\n",
       " 'RJCount9',\n",
       " 'StarCount9',\n",
       " 'SBCCount9',\n",
       " 'BC10Count9',\n",
       " 'BC15Count9',\n",
       " 'contactid8',\n",
       " 'ProductionAmount8',\n",
       " 'NewRecruitCount8',\n",
       " 'OrderingConsultantCount8',\n",
       " 'NBCCount8',\n",
       " 'ABCCount8',\n",
       " 'PBCCount8',\n",
       " 'TBCCount8',\n",
       " 'DIQCount8',\n",
       " 'FDirCount8',\n",
       " 'RJCount8',\n",
       " 'StarCount8',\n",
       " 'SBCCount8',\n",
       " 'BC10Count8',\n",
       " 'BC15Count8',\n",
       " 'contactid7',\n",
       " 'ProductionAmount7',\n",
       " 'NewRecruitCount7',\n",
       " 'OrderingConsultantCount7',\n",
       " 'NBCCount7',\n",
       " 'ABCCount7',\n",
       " 'PBCCount7',\n",
       " 'TBCCount7',\n",
       " 'DIQCount7',\n",
       " 'FDirCount7',\n",
       " 'RJCount7',\n",
       " 'StarCount7',\n",
       " 'SBCCount7',\n",
       " 'BC10Count7',\n",
       " 'BC15Count7',\n",
       " 'contactid6',\n",
       " 'ProductionAmount6',\n",
       " 'NewRecruitCount6',\n",
       " 'OrderingConsultantCount6',\n",
       " 'NBCCount6',\n",
       " 'ABCCount6',\n",
       " 'PBCCount6',\n",
       " 'TBCCount6',\n",
       " 'DIQCount6',\n",
       " 'FDirCount6',\n",
       " 'RJCount6',\n",
       " 'StarCount6',\n",
       " 'SBCCount6',\n",
       " 'BC10Count6',\n",
       " 'BC15Count6',\n",
       " 'contactid5',\n",
       " 'ProductionAmount5',\n",
       " 'NewRecruitCount5',\n",
       " 'OrderingConsultantCount5',\n",
       " 'NBCCount5',\n",
       " 'ABCCount5',\n",
       " 'PBCCount5',\n",
       " 'TBCCount5',\n",
       " 'DIQCount5',\n",
       " 'FDirCount5',\n",
       " 'RJCount5',\n",
       " 'StarCount5',\n",
       " 'SBCCount5',\n",
       " 'BC10Count5',\n",
       " 'BC15Count5',\n",
       " 'contactid4',\n",
       " 'ProductionAmount4',\n",
       " 'NewRecruitCount4',\n",
       " 'OrderingConsultantCount4',\n",
       " 'NBCCount4',\n",
       " 'ABCCount4',\n",
       " 'PBCCount4',\n",
       " 'TBCCount4',\n",
       " 'DIQCount4',\n",
       " 'FDirCount4',\n",
       " 'RJCount4',\n",
       " 'StarCount4',\n",
       " 'SBCCount4',\n",
       " 'BC10Count4',\n",
       " 'BC15Count4',\n",
       " 'contactid3',\n",
       " 'ProductionAmount3',\n",
       " 'NewRecruitCount3',\n",
       " 'OrderingConsultantCount3',\n",
       " 'NBCCount3',\n",
       " 'ABCCount3',\n",
       " 'PBCCount3',\n",
       " 'TBCCount3',\n",
       " 'DIQCount3',\n",
       " 'FDirCount3',\n",
       " 'RJCount3',\n",
       " 'StarCount3',\n",
       " 'SBCCount3',\n",
       " 'BC10Count3',\n",
       " 'BC15Count3',\n",
       " 'contactid2',\n",
       " 'ProductionAmount2',\n",
       " 'NewRecruitCount2',\n",
       " 'OrderingConsultantCount2',\n",
       " 'NBCCount2',\n",
       " 'ABCCount2',\n",
       " 'PBCCount2',\n",
       " 'TBCCount2',\n",
       " 'DIQCount2',\n",
       " 'FDirCount2',\n",
       " 'RJCount2',\n",
       " 'StarCount2',\n",
       " 'SBCCount2',\n",
       " 'BC10Count2',\n",
       " 'BC15Count2',\n",
       " 'contactid1',\n",
       " 'ProductionAmount1',\n",
       " 'NewRecruitCount1',\n",
       " 'OrderingConsultantCount1',\n",
       " 'NBCCount1',\n",
       " 'ABCCount1',\n",
       " 'PBCCount1',\n",
       " 'TBCCount1',\n",
       " 'DIQCount1',\n",
       " 'FDirCount1',\n",
       " 'RJCount1',\n",
       " 'StarCount1',\n",
       " 'SBCCount1',\n",
       " 'BC10Count1',\n",
       " 'BC15Count1']"
      ]
     },
     "execution_count": 257,
     "metadata": {},
     "output_type": "execute_result"
    }
   ],
   "source": [
    "list(tidydata.columns)"
   ]
  },
  {
   "cell_type": "code",
   "execution_count": 126,
   "metadata": {},
   "outputs": [
    {
     "name": "stderr",
     "output_type": "stream",
     "text": [
      "/Users/haikundu/anaconda/envs/python36/lib/python3.6/site-packages/IPython/core/interactiveshell.py:2728: DtypeWarning: Columns (4) have mixed types. Specify dtype option on import or set low_memory=False.\n",
      "  interactivity=interactivity, compiler=compiler, result=result)\n"
     ]
    }
   ],
   "source": [
    "relationship = pd.read_csv('/Users/haikundu/Desktop/shanshu/hackathon/data/unit relationships.csv')"
   ]
  },
  {
   "cell_type": "code",
   "execution_count": 127,
   "metadata": {},
   "outputs": [],
   "source": [
    "relationship_12 = relationship[relationship['ProductionMonthKEY'] == 201803]"
   ]
  },
  {
   "cell_type": "code",
   "execution_count": 239,
   "metadata": {},
   "outputs": [],
   "source": [
    "unit_info = relationship_12.groupby('parentcontactid').count().reset_index()[['parentcontactid','Affiliated']]\n",
    "unit_info.columns = ['contactid','offspring']"
   ]
  },
  {
   "cell_type": "code",
   "execution_count": 240,
   "metadata": {},
   "outputs": [],
   "source": [
    "distance_chief = relationship_12[relationship_12.parentcontactid.isin(chief)][['offspringcontactid','OffspringLineNumber']]"
   ]
  },
  {
   "cell_type": "code",
   "execution_count": 245,
   "metadata": {},
   "outputs": [],
   "source": [
    "combined = pd.merge(unit_info,distance_chief, left_on = 'contactid', right_on = 'offspringcontactid', how = 'left')[['contactid','offspring','OffspringLineNumber']]"
   ]
  },
  {
   "cell_type": "code",
   "execution_count": 246,
   "metadata": {},
   "outputs": [],
   "source": [
    "child = relationship_12.loc[:,'offspringcontactid'].tolist()\n",
    "parent = relationship_12.loc[:,'parentcontactid'].tolist()\n",
    "edge = list(zip(parent,child))\n",
    "import networkx as nx\n",
    "DG = nx.DiGraph()\n",
    "DG.add_edges_from(edge)"
   ]
  },
  {
   "cell_type": "code",
   "execution_count": 259,
   "metadata": {},
   "outputs": [
    {
     "ename": "KeyError",
     "evalue": "\"['age' 'age_MLK'] not in index\"",
     "output_type": "error",
     "traceback": [
      "\u001b[0;31m---------------------------------------------------------------------------\u001b[0m",
      "\u001b[0;31mKeyError\u001b[0m                                  Traceback (most recent call last)",
      "\u001b[0;32m<ipython-input-259-4aa7bed4aceb>\u001b[0m in \u001b[0;36m<module>\u001b[0;34m()\u001b[0m\n\u001b[1;32m      6\u001b[0m \u001b[0mbfs\u001b[0m \u001b[0;34m=\u001b[0m \u001b[0mbfs_edges\u001b[0m\u001b[0;34m(\u001b[0m\u001b[0mDG\u001b[0m\u001b[0;34m,\u001b[0m\u001b[0mtemp_person\u001b[0m\u001b[0;34m)\u001b[0m\u001b[0;34m\u001b[0m\u001b[0m\n\u001b[1;32m      7\u001b[0m \u001b[0munit_member\u001b[0m \u001b[0;34m=\u001b[0m \u001b[0;34m[\u001b[0m\u001b[0mx\u001b[0m\u001b[0;34m[\u001b[0m\u001b[0;36m1\u001b[0m\u001b[0;34m]\u001b[0m \u001b[0;32mfor\u001b[0m \u001b[0mx\u001b[0m \u001b[0;32min\u001b[0m \u001b[0mlist\u001b[0m\u001b[0;34m(\u001b[0m\u001b[0mbfs\u001b[0m\u001b[0;34m)\u001b[0m\u001b[0;34m]\u001b[0m\u001b[0;34m\u001b[0m\u001b[0m\n\u001b[0;32m----> 8\u001b[0;31m \u001b[0mtemp_info_continuous\u001b[0m \u001b[0;34m=\u001b[0m \u001b[0mtidydata\u001b[0m\u001b[0;34m[\u001b[0m\u001b[0mtidydata\u001b[0m\u001b[0;34m.\u001b[0m\u001b[0mBK_ContactID\u001b[0m\u001b[0;34m.\u001b[0m\u001b[0misin\u001b[0m\u001b[0;34m(\u001b[0m\u001b[0munit_member\u001b[0m\u001b[0;34m)\u001b[0m\u001b[0;34m]\u001b[0m\u001b[0;34m[\u001b[0m\u001b[0;34m[\u001b[0m\u001b[0;34m'latitude'\u001b[0m\u001b[0;34m,\u001b[0m\u001b[0;34m'longitude'\u001b[0m\u001b[0;34m,\u001b[0m\u001b[0;34m'age'\u001b[0m\u001b[0;34m,\u001b[0m\u001b[0;34m'age_MLK'\u001b[0m\u001b[0;34m]\u001b[0m\u001b[0;34m]\u001b[0m\u001b[0;34m\u001b[0m\u001b[0m\n\u001b[0m\u001b[1;32m      9\u001b[0m temp_info_discrete = tidydata[tidydata.BK_ContactID.isin(unit_member)][['age0','age1','age2','age3',\n\u001b[1;32m     10\u001b[0m                                                                         \u001b[0;34m'age_MLK'\u001b[0m\u001b[0;34m,\u001b[0m\u001b[0;34m\u001b[0m\u001b[0m\n",
      "\u001b[0;32m~/anaconda/envs/python36/lib/python3.6/site-packages/pandas/core/frame.py\u001b[0m in \u001b[0;36m__getitem__\u001b[0;34m(self, key)\u001b[0m\n\u001b[1;32m   2131\u001b[0m         \u001b[0;32mif\u001b[0m \u001b[0misinstance\u001b[0m\u001b[0;34m(\u001b[0m\u001b[0mkey\u001b[0m\u001b[0;34m,\u001b[0m \u001b[0;34m(\u001b[0m\u001b[0mSeries\u001b[0m\u001b[0;34m,\u001b[0m \u001b[0mnp\u001b[0m\u001b[0;34m.\u001b[0m\u001b[0mndarray\u001b[0m\u001b[0;34m,\u001b[0m \u001b[0mIndex\u001b[0m\u001b[0;34m,\u001b[0m \u001b[0mlist\u001b[0m\u001b[0;34m)\u001b[0m\u001b[0;34m)\u001b[0m\u001b[0;34m:\u001b[0m\u001b[0;34m\u001b[0m\u001b[0m\n\u001b[1;32m   2132\u001b[0m             \u001b[0;31m# either boolean or fancy integer index\u001b[0m\u001b[0;34m\u001b[0m\u001b[0;34m\u001b[0m\u001b[0m\n\u001b[0;32m-> 2133\u001b[0;31m             \u001b[0;32mreturn\u001b[0m \u001b[0mself\u001b[0m\u001b[0;34m.\u001b[0m\u001b[0m_getitem_array\u001b[0m\u001b[0;34m(\u001b[0m\u001b[0mkey\u001b[0m\u001b[0;34m)\u001b[0m\u001b[0;34m\u001b[0m\u001b[0m\n\u001b[0m\u001b[1;32m   2134\u001b[0m         \u001b[0;32melif\u001b[0m \u001b[0misinstance\u001b[0m\u001b[0;34m(\u001b[0m\u001b[0mkey\u001b[0m\u001b[0;34m,\u001b[0m \u001b[0mDataFrame\u001b[0m\u001b[0;34m)\u001b[0m\u001b[0;34m:\u001b[0m\u001b[0;34m\u001b[0m\u001b[0m\n\u001b[1;32m   2135\u001b[0m             \u001b[0;32mreturn\u001b[0m \u001b[0mself\u001b[0m\u001b[0;34m.\u001b[0m\u001b[0m_getitem_frame\u001b[0m\u001b[0;34m(\u001b[0m\u001b[0mkey\u001b[0m\u001b[0;34m)\u001b[0m\u001b[0;34m\u001b[0m\u001b[0m\n",
      "\u001b[0;32m~/anaconda/envs/python36/lib/python3.6/site-packages/pandas/core/frame.py\u001b[0m in \u001b[0;36m_getitem_array\u001b[0;34m(self, key)\u001b[0m\n\u001b[1;32m   2175\u001b[0m             \u001b[0;32mreturn\u001b[0m \u001b[0mself\u001b[0m\u001b[0;34m.\u001b[0m\u001b[0m_take\u001b[0m\u001b[0;34m(\u001b[0m\u001b[0mindexer\u001b[0m\u001b[0;34m,\u001b[0m \u001b[0maxis\u001b[0m\u001b[0;34m=\u001b[0m\u001b[0;36m0\u001b[0m\u001b[0;34m,\u001b[0m \u001b[0mconvert\u001b[0m\u001b[0;34m=\u001b[0m\u001b[0;32mFalse\u001b[0m\u001b[0;34m)\u001b[0m\u001b[0;34m\u001b[0m\u001b[0m\n\u001b[1;32m   2176\u001b[0m         \u001b[0;32melse\u001b[0m\u001b[0;34m:\u001b[0m\u001b[0;34m\u001b[0m\u001b[0m\n\u001b[0;32m-> 2177\u001b[0;31m             \u001b[0mindexer\u001b[0m \u001b[0;34m=\u001b[0m \u001b[0mself\u001b[0m\u001b[0;34m.\u001b[0m\u001b[0mloc\u001b[0m\u001b[0;34m.\u001b[0m\u001b[0m_convert_to_indexer\u001b[0m\u001b[0;34m(\u001b[0m\u001b[0mkey\u001b[0m\u001b[0;34m,\u001b[0m \u001b[0maxis\u001b[0m\u001b[0;34m=\u001b[0m\u001b[0;36m1\u001b[0m\u001b[0;34m)\u001b[0m\u001b[0;34m\u001b[0m\u001b[0m\n\u001b[0m\u001b[1;32m   2178\u001b[0m             \u001b[0;32mreturn\u001b[0m \u001b[0mself\u001b[0m\u001b[0;34m.\u001b[0m\u001b[0m_take\u001b[0m\u001b[0;34m(\u001b[0m\u001b[0mindexer\u001b[0m\u001b[0;34m,\u001b[0m \u001b[0maxis\u001b[0m\u001b[0;34m=\u001b[0m\u001b[0;36m1\u001b[0m\u001b[0;34m,\u001b[0m \u001b[0mconvert\u001b[0m\u001b[0;34m=\u001b[0m\u001b[0;32mTrue\u001b[0m\u001b[0;34m)\u001b[0m\u001b[0;34m\u001b[0m\u001b[0m\n\u001b[1;32m   2179\u001b[0m \u001b[0;34m\u001b[0m\u001b[0m\n",
      "\u001b[0;32m~/anaconda/envs/python36/lib/python3.6/site-packages/pandas/core/indexing.py\u001b[0m in \u001b[0;36m_convert_to_indexer\u001b[0;34m(self, obj, axis, is_setter)\u001b[0m\n\u001b[1;32m   1267\u001b[0m                 \u001b[0;32mif\u001b[0m \u001b[0mmask\u001b[0m\u001b[0;34m.\u001b[0m\u001b[0many\u001b[0m\u001b[0;34m(\u001b[0m\u001b[0;34m)\u001b[0m\u001b[0;34m:\u001b[0m\u001b[0;34m\u001b[0m\u001b[0m\n\u001b[1;32m   1268\u001b[0m                     raise KeyError('{mask} not in index'\n\u001b[0;32m-> 1269\u001b[0;31m                                    .format(mask=objarr[mask]))\n\u001b[0m\u001b[1;32m   1270\u001b[0m \u001b[0;34m\u001b[0m\u001b[0m\n\u001b[1;32m   1271\u001b[0m                 \u001b[0;32mreturn\u001b[0m \u001b[0m_values_from_object\u001b[0m\u001b[0;34m(\u001b[0m\u001b[0mindexer\u001b[0m\u001b[0;34m)\u001b[0m\u001b[0;34m\u001b[0m\u001b[0m\n",
      "\u001b[0;31mKeyError\u001b[0m: \"['age' 'age_MLK'] not in index\""
     ]
    }
   ],
   "source": [
    "from networkx.algorithms.traversal.breadth_first_search import bfs_edges\n",
    "#combined['in_degree'] = combined['contactid'].apply(lambda x: DG.in_degree(x))\n",
    "#combined['out_degree'] = combined['contactid'].apply(lambda x: DG.out_degree(x))\n",
    "\n",
    "temp_person = 20002864080\n",
    "bfs = bfs_edges(DG,temp_person)\n",
    "unit_member = [x[1] for x in list(bfs)]\n",
    "temp_info_continuous = tidydata[tidydata.BK_ContactID.isin(unit_member)][['latitude','longitude','age','age_MLK']]\n",
    "temp_info_discrete = tidydata[tidydata.BK_ContactID.isin(unit_member)][['age0','age1','age2','age3',\n",
    "                                                                        'age_MLK',\n",
    " 'age_MLK0',\n",
    " 'age_MLK1',\n",
    " 'age_MLK2',\n",
    " 'age_MLK3',\n",
    " '七台河',\n",
    " '万宁市',\n",
    " '三亚',\n",
    " '三明',\n",
    " '三门峡',\n",
    " '上海',\n",
    " '上饶',\n",
    " '东方市',\n",
    " '东莞',\n",
    " '东营',\n",
    " '中卫',\n",
    " '中山',\n",
    " '临夏回族自治州',\n",
    " '临汾',\n",
    " '临沂',\n",
    " '临沧',\n",
    " '丹东',\n",
    " '丽水',\n",
    " '丽江',\n",
    " '乌兰察布',\n",
    " '乌海',\n",
    " '乌鲁木齐',\n",
    " '乐山',\n",
    " '九江',\n",
    " '云浮',\n",
    " '五家渠',\n",
    " '亳州',\n",
    " '仙桃市',\n",
    " '伊犁哈萨克自治州',\n",
    " '佛山',\n",
    " '佳木斯',\n",
    " '保亭黎族苗族自治县',\n",
    " '保定',\n",
    " '保山',\n",
    " '信阳',\n",
    " '儋州',\n",
    " '克孜勒苏柯尔克孜自治州',\n",
    " '克拉玛依',\n",
    " '六安',\n",
    " '六盘水',\n",
    " '兰州',\n",
    " '兴安盟',\n",
    " '内江',\n",
    " '凉山彝族自治州',\n",
    " '包头',\n",
    " '北京',\n",
    " '北海',\n",
    " '十堰',\n",
    " '南京',\n",
    " '南充',\n",
    " '南宁',\n",
    " '南平',\n",
    " '南昌',\n",
    " '南通',\n",
    " '南阳',\n",
    " '博尔塔拉蒙古自治州',\n",
    " '厦门',\n",
    " '双鸭山',\n",
    " '台州',\n",
    " '合肥',\n",
    " '吉安',\n",
    " '吉林',\n",
    " '吐鲁番地区',\n",
    " '吕梁',\n",
    " '吴忠',\n",
    " '周口',\n",
    " '呼伦贝尔',\n",
    " '呼和浩特',\n",
    " '和田地区',\n",
    " '咸宁',\n",
    " '咸阳',\n",
    " '哈密地区',\n",
    " '哈尔滨',\n",
    " '唐山',\n",
    " '商丘',\n",
    " '商洛',\n",
    " '喀什地区',\n",
    " '嘉兴',\n",
    " '嘉峪关',\n",
    " '四平',\n",
    " '固原',\n",
    " '塔城地区',\n",
    " '大兴安岭地区',\n",
    " '大同',\n",
    " '大庆',\n",
    " '大理白族自治州',\n",
    " '大连',\n",
    " '天水',\n",
    " '天津',\n",
    " '天门',\n",
    " '太原',\n",
    " '威海',\n",
    " '娄底',\n",
    " '孝感',\n",
    " '宁德',\n",
    " '宁波',\n",
    " '安庆',\n",
    " '安康',\n",
    " '安阳',\n",
    " '安顺',\n",
    " '定西',\n",
    " '宜宾',\n",
    " '宜昌',\n",
    " '宜春',\n",
    " '宝鸡',\n",
    " '宣城',\n",
    " '宿州',\n",
    " '宿迁',\n",
    " '屯昌县',\n",
    " '岳阳',\n",
    " '崇左',\n",
    " '巢湖',\n",
    " '巴中',\n",
    " '巴彦淖尔',\n",
    " '巴音郭楞蒙古自治州',\n",
    " '常州',\n",
    " '常德',\n",
    " '平凉',\n",
    " '平顶山',\n",
    " '广元',\n",
    " '广安',\n",
    " '广州',\n",
    " '庆阳',\n",
    " '廊坊',\n",
    " '延安',\n",
    " '延边朝鲜族自治州',\n",
    " '开封',\n",
    " '张家口',\n",
    " '张家界',\n",
    " '张掖',\n",
    " '徐州',\n",
    " '德宏傣族景颇族自治州',\n",
    " '德州',\n",
    " '德阳',\n",
    " '忻州',\n",
    " '怀化',\n",
    " '怒江傈僳族自治州',\n",
    " '恩施',\n",
    " '惠州',\n",
    " '成都',\n",
    " '扬州',\n",
    " '承德',\n",
    " '抚州',\n",
    " '抚顺',\n",
    " '揭阳',\n",
    " '攀枝花',\n",
    " '文山壮族苗族自治州',\n",
    " '文昌市',\n",
    " '新乡',\n",
    " '新余',\n",
    " '无锡',\n",
    " '日照',\n",
    " '昆明',\n",
    " '昌吉回族自治州',\n",
    " '昌江黎族自治县',\n",
    " '昭通',\n",
    " '晋中',\n",
    " '晋城',\n",
    " '普洱',\n",
    " '景德镇',\n",
    " '曲靖',\n",
    " '朔州',\n",
    " '朝阳',\n",
    " '本溪',\n",
    " '来宾',\n",
    " '杭州',\n",
    " '松原',\n",
    " '枣庄',\n",
    " '柳州',\n",
    " '株洲',\n",
    " '桂林',\n",
    " '梅州',\n",
    " '梧州',\n",
    " '楚雄彝族自治州',\n",
    " '榆林',\n",
    " '武威',\n",
    " '武汉',\n",
    " '毕节',\n",
    " '永州',\n",
    " '汉中',\n",
    " '汕头',\n",
    " '汕尾',\n",
    " '江门',\n",
    " '池州',\n",
    " '沈阳',\n",
    " '沧州',\n",
    " '河池',\n",
    " '河源',\n",
    " '泉州',\n",
    " '泰安',\n",
    " '泰州',\n",
    " '泸州',\n",
    " '洛阳',\n",
    " '济南',\n",
    " '济宁',\n",
    " '海东地区',\n",
    " '海北藏族自治州',\n",
    " '海南藏族自治州',\n",
    " '海口',\n",
    " '海西蒙古族藏族自治州',\n",
    " '淄博',\n",
    " '淮北',\n",
    " '淮南',\n",
    " '淮安',\n",
    " '深圳',\n",
    " '清远',\n",
    " '温州',\n",
    " '渭南',\n",
    " '湖州',\n",
    " '湘潭',\n",
    " '湘西土家族苗族自治州',\n",
    " '湛江',\n",
    " '滁州',\n",
    " '滨州',\n",
    " '漯河',\n",
    " '漳州',\n",
    " '潍坊',\n",
    " '潜江',\n",
    " '潮州',\n",
    " '澄迈县',\n",
    " '濮阳',\n",
    " '烟台',\n",
    " '焦作',\n",
    " '牡丹江',\n",
    " '玉林',\n",
    " '玉树藏族自治州',\n",
    " '玉溪',\n",
    " '珠海',\n",
    " '琼中黎族苗族自治县',\n",
    " '琼海市',\n",
    " '甘南藏族自治州',\n",
    " '甘孜藏族自治州',\n",
    " '白城',\n",
    " '白山',\n",
    " '白银',\n",
    " '百色',\n",
    " '益阳',\n",
    " '盐城',\n",
    " '盘锦',\n",
    " '眉山',\n",
    " '石嘴山',\n",
    " '石家庄',\n",
    " '石河子',\n",
    " '福州',\n",
    " '秦皇岛',\n",
    " '红河哈尼族彝族自治州',\n",
    " '绍兴',\n",
    " '绥化',\n",
    " '绵阳',\n",
    " '聊城',\n",
    " '肇庆',\n",
    " '自贡',\n",
    " '舟山',\n",
    " '芜湖',\n",
    " '苏州',\n",
    " '茂名',\n",
    " '荆州',\n",
    " '荆门',\n",
    " '莆田',\n",
    " '莱芜',\n",
    " '菏泽',\n",
    " '萍乡',\n",
    " '营口',\n",
    " '葫芦岛',\n",
    " '蚌埠',\n",
    " '衡水',\n",
    " '衡阳',\n",
    " '衢州',\n",
    " '襄阳',\n",
    " '西双版纳傣族自治州',\n",
    " '西宁',\n",
    " '西安',\n",
    " '许昌',\n",
    " '贵港',\n",
    " '贵阳',\n",
    " '贺州',\n",
    " '资阳',\n",
    " '赣州',\n",
    " '赤峰',\n",
    " '辽源',\n",
    " '辽阳',\n",
    " '达州',\n",
    " '运城',\n",
    " '连云港',\n",
    " '迪庆藏族自治州',\n",
    " '通化',\n",
    " '通辽',\n",
    " '遂宁',\n",
    " '遵义',\n",
    " '邢台',\n",
    " '邯郸',\n",
    " '邵阳',\n",
    " '郑州',\n",
    " '郴州',\n",
    " '鄂尔多斯',\n",
    " '鄂州',\n",
    " '酒泉',\n",
    " '重庆',\n",
    " '金华',\n",
    " '金昌',\n",
    " '钦州',\n",
    " '铁岭',\n",
    " '铜仁',\n",
    " '铜川',\n",
    " '铜陵',\n",
    " '银川',\n",
    " '锡林郭勒盟',\n",
    " '锦州',\n",
    " '镇江',\n",
    " '长春',\n",
    " '长沙',\n",
    " '长治',\n",
    " '阜新',\n",
    " '阜阳',\n",
    " '防城港',\n",
    " '阳江',\n",
    " '阳泉',\n",
    " '阿克苏地区',\n",
    " '阿勒泰地区',\n",
    " '阿坝藏族羌族自治州',\n",
    " '阿拉善盟',\n",
    " '阿拉尔市',\n",
    " '陇南',\n",
    " '陵水黎族自治县',\n",
    " '随州',\n",
    " '雅安',\n",
    " '青岛',\n",
    " '鞍山',\n",
    " '韶关',\n",
    " '马鞍山',\n",
    " '驻马店',\n",
    " '鸡西',\n",
    " '鹤壁',\n",
    " '鹤岗',\n",
    " '鹰潭',\n",
    " '黄冈',\n",
    " '黄南藏族自治州',\n",
    " '黄山',\n",
    " '黄石',\n",
    " '黑河',\n",
    " '黔东南苗族侗族自治州',\n",
    " '黔南州',\n",
    " '黔南布依族苗族自治州',\n",
    " '黔西南布依族苗族自治州',\n",
    " '齐齐哈尔',\n",
    " '龙岩',]]\n"
   ]
  },
  {
   "cell_type": "code",
   "execution_count": 219,
   "metadata": {},
   "outputs": [],
   "source": [
    "shouxi = []\n",
    "for i in parent:\n",
    "    if DG.in_degree(i) == 0:\n",
    "        shouxi.append(i)\n",
    "chief = list(set(shouxi))"
   ]
  },
  {
   "cell_type": "code",
   "execution_count": 247,
   "metadata": {},
   "outputs": [
    {
     "data": {
      "text/plain": [
       "1"
      ]
     },
     "execution_count": 247,
     "metadata": {},
     "output_type": "execute_result"
    }
   ],
   "source": [
    "DG.in_degree(combined.loc[1,'contactid'])"
   ]
  },
  {
   "cell_type": "code",
   "execution_count": null,
   "metadata": {},
   "outputs": [],
   "source": []
  }
 ],
 "metadata": {
  "kernelspec": {
   "display_name": "Python 3",
   "language": "python",
   "name": "python3"
  },
  "language_info": {
   "codemirror_mode": {
    "name": "ipython",
    "version": 3
   },
   "file_extension": ".py",
   "mimetype": "text/x-python",
   "name": "python",
   "nbconvert_exporter": "python",
   "pygments_lexer": "ipython3",
   "version": "3.6.4"
  }
 },
 "nbformat": 4,
 "nbformat_minor": 2
}
