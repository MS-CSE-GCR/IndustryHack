{
 "cells": [
  {
   "cell_type": "code",
   "execution_count": 17,
   "metadata": {
    "collapsed": true
   },
   "outputs": [],
   "source": [
    "from itertools import compress\n",
    "import pandas as pd\n",
    "import re\n",
    "import os"
   ]
  },
  {
   "cell_type": "code",
   "execution_count": 18,
   "metadata": {
    "collapsed": true
   },
   "outputs": [],
   "source": [
    "def re_match(include, no_space_name):\n",
    "    include_pattern = re.compile(include)\n",
    "    return bool(include_pattern.search(no_space_name))"
   ]
  },
  {
   "cell_type": "code",
   "execution_count": 19,
   "metadata": {
    "collapsed": true
   },
   "outputs": [],
   "source": [
    "def match_mapping(rule, skuname):\n",
    "    rule_include = rule['rule_include']\n",
    "    rule_equal = rule['rule_equal']\n",
    "    rule_exclude = rule['rule_exclude']\n",
    "    output = rule['output']\n",
    "    match_list = []\n",
    "    for name in skuname:\n",
    "        if type(name)!=str:\n",
    "            continue\n",
    "        no_space_name = name.replace(\" \",\"\")\n",
    "        result_include = all([re_match(include.lower(), no_space_name.lower()) for include in rule_include])\n",
    "        result_equal = all([equal.lower() == no_space_name.lower() for equal in rule_equal])\n",
    "        result_exclude = True\n",
    "        if len(rule_exclude) >= 1 and rule_exclude[0] != '':\n",
    "            result_exclude = all([not re_match(exclude.lower(), no_space_name.lower()) for exclude in rule_exclude])\n",
    "        result = (result_include or result_equal) and result_exclude\n",
    "        if result:\n",
    "            match_list.append({\"title\":name, \"skuname\": output})\n",
    "    return match_list"
   ]
  },
  {
   "cell_type": "code",
   "execution_count": 20,
   "metadata": {
    "collapsed": true
   },
   "outputs": [],
   "source": [
    "def extract_group(group):\n",
    "    result_group = ''\n",
    "    rule_in_group = re.findall(r'\\((.*?)\\)',group)\n",
    "    if len(rule_in_group)>0:\n",
    "        result_group = rule_in_group[0]\n",
    "    else:\n",
    "        result_group = group\n",
    "    return result_group"
   ]
  },
  {
   "cell_type": "code",
   "execution_count": 21,
   "metadata": {
    "collapsed": true
   },
   "outputs": [],
   "source": [
    "def get_rule(row):\n",
    "    rule_include = [extract_group(n) for n in row['include'].split('&')]\n",
    "    rule_equal = [extract_group(n) for n in row['exclude'].split('|')]\n",
    "    rule_exclude = [extract_group(n) for n in row['exclude'].split('&')]\n",
    "    return {'rule_include': rule_include, 'rule_equal':rule_equal, 'rule_exclude':rule_exclude, 'output':row['output']}"
   ]
  },
  {
   "cell_type": "code",
   "execution_count": 22,
   "metadata": {
    "collapsed": true
   },
   "outputs": [],
   "source": [
    "def write_to_csv(mapping_df,path):\n",
    "    if not os.path.isfile(path):\n",
    "        mapping_df.to_csv(path, encoding='utf8', mode='w', header=True, index=False)\n",
    "    else:\n",
    "        mapping_df.to_csv(path, encoding='utf8', mode='a', header=False, index=False)"
   ]
  },
  {
   "cell_type": "code",
   "execution_count": 23,
   "metadata": {
    "collapsed": true,
    "scrolled": false
   },
   "outputs": [],
   "source": [
    "def main():\n",
    "    skumapping_path = '/Users/dataone/MARYKAY/SKUmapping'\n",
    "    sku_path = skumapping_path + '/name_origin_test.csv'\n",
    "    rule_path =  skumapping_path + '/auto_mapping_rule.csv'\n",
    "    result_path =  skumapping_path + '/name_origin_test_result.csv'\n",
    "    dup_result_path =  skumapping_path + '/name_origin_test_result_dup.csv'\n",
    "    no_match_path = skumapping_path + '/name_origin_test_no_match_mapping_result.csv'\n",
    "    origin_brands = pd.read_csv(brands_path)\n",
    "    skuname = ['幻时抗皱精华素']\n",
    "    # rule_file = pd.read_excel('/Users/duanyujia/dataone/mars/相等测试规则.xlsx')\n",
    "    # rule_group=rule_file.replace(to_replace='\\ufeff',value='',regex=True)\n",
    "    rule_group = pd.read_csv(rule_path,na_filter=False)\n",
    "    result = []\n",
    "    for index, row in rule_group.iterrows():\n",
    "        rule = get_rule(row)\n",
    "        match_result = match_mapping(rule, skuname)\n",
    "        if len(match_result) > 0:\n",
    "            result += match_result\n",
    "    df_result =  pd.DataFrame(result).drop_duplicates()\n",
    "    grouped = df_result.groupby(['origin_title'])\n",
    "    ready_result = grouped.filter(lambda x: x['origin_title'].agg(['count']) == 1)\n",
    "    write_to_csv(ready_result, result_path)\n",
    "    confuse_result = grouped.filter(lambda x: x['origin_title'].agg(['count']) > 1)\n",
    "    write_to_csv(confuse_result, dup_result_path)\n",
    "    mapped_origin_brands = df_result['origin_title']\n",
    "    no_mapped_brands = pd.DataFrame({'title_origin': list(set(skuname) - set(mapped_origin_sku))})\n",
    "    write_to_csv(no_mapped_skus, no_match_path)"
   ]
  },
  {
   "cell_type": "code",
   "execution_count": 24,
   "metadata": {
    "collapsed": true
   },
   "outputs": [],
   "source": [
    "if __name__ == '__main__':\n",
    "    main()"
   ]
  },
  {
   "cell_type": "code",
   "execution_count": null,
   "metadata": {
    "collapsed": true
   },
   "outputs": [],
   "source": []
  }
 ],
 "metadata": {
  "kernelspec": {
   "display_name": "Python 3",
   "language": "python",
   "name": "python3"
  },
  "language_info": {
   "codemirror_mode": {
    "name": "ipython",
    "version": 3
   },
   "file_extension": ".py",
   "mimetype": "text/x-python",
   "name": "python",
   "nbconvert_exporter": "python",
   "pygments_lexer": "ipython3",
   "version": "3.6.3"
  }
 },
 "nbformat": 4,
 "nbformat_minor": 2
}
